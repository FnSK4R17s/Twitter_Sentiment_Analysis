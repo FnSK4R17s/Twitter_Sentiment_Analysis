{
 "cells": [
  {
   "cell_type": "code",
   "execution_count": 2,
   "metadata": {
    "scrolled": false
   },
   "outputs": [
    {
     "data": {
      "text/markdown": [
       "# Sentiment Analysis using Tweepy\n",
       "Sentiment analysis is the branch of NLP which focuses on analysing the sentiment of a given piece of text.\n",
       "\n",
       "## What is Bitcoin?\n",
       "Bitcoin is a Decentralised Cryptocurrency !\n",
       "\n",
       "It is an open source software which is use to make digital payments without the involvement of a centralized agency or a Bank.\n",
       "\n",
       "## How does it function ?\n",
       "It runs on a Blockchain. Blockchain is a distributed ledger which is installed in every node in the bitcoin network.\n",
       "Each node in the bitcoin network is called a Miner. Miners are responsible for maintaining the bitcoin network by approving transactions made via the bitcoin network.\n",
       "\n",
       "### Blockchain\n",
       "Blockchain is a data structure of blocks where each block is connected to the next block just like a chain.\n",
       "\n",
       "## Why is it important ?\n",
       "Bitcoin is important because it is decentralized, and immutable i.e. no one can undo whatever is written on the blockchain.\n",
       "To push a transaction to the bitcoin network each and every miner has to approve the transaction as a genuine one by showing a proof of work. If more than 50% of the miners approve of the transaction, it is added to the bitcoin network or the blockchain.\n",
       "It is so safe because the total number of miners is very big and no one owns so much computing power (50%) that they can fake a transaction in the network.\n",
       "\n",
       "(50% of networks computing power is morer than the sum of computing power of to 500 Supercomputers combined !)\n",
       "\n",
       "## What is ABER ?\n",
       "It is a new cryptocurrency announced by UAE and Saudi Arabian Governments for bank to bank transactions. Follow the links to know more:\n",
       "\n",
       "1. https://cointelegraph.com/news/uae-saudi-arabian-digital-currency-aber-to-be-restricted-to-select-banks-at-start\n",
       "2. https://www.khaleejtimes.com/region/uae-saudi-announce-launch-of-common-digital-currency-aber\n",
       "3. https://gulfbusiness.com/uae-saudi-reveal-details-common-digital-currency-aber/\n",
       "\n",
       "# What is Tweepy ?\n",
       "Tweepy is a library which lets us access twitter's API\n",
       "Introduction: Twitter is a popular social network where users share messages called tweets. Twitter allows us to mine the data of any user using Twitter API or Tweepy. The data will be tweets extracted from the user. The first thing to do is get the consumer key, consumer secret, access key and access secret from twitter developer available easily for each user. These keys will help the API for authentication.\n",
       "\n",
       "### Steps to obtain keys: \n",
       "1. Login to twitter developer section \n",
       "2. Go to “Create an App”\n",
       "3. Fill the details of the application.\n",
       "4. Click on Create your Twitter Application\n",
       "5. Details of your new app will be shown along with consumer key and consumer secret.\n",
       "6. For access token, click ” Create my access token”. The page will refresh and generate access token.\n",
       "\n",
       "Tweepy is one of the library that should be installed using pip. Now in order to authorize our app to access Twitter on our behalf, we need to use the OAuth Interface. Tweepy provides the convenient Cursor interface to iterate through different types of objects. Twitter allows a maximum of 3200 tweets for extraction.\n",
       "\n",
       "These all are the prerequisite that have to be used before getting tweets of a user.\n",
       "\n",
       "### Installing Tweepy\n",
       "We install tweepy using `pip install tweepy`\n",
       "\n"
      ],
      "text/plain": [
       "<IPython.core.display.Markdown object>"
      ]
     },
     "metadata": {},
     "output_type": "display_data"
    }
   ],
   "source": [
    "from IPython.display import display, Markdown\n",
    "\n",
    "with open('README.md', 'r') as fh:\n",
    "    content = fh.read()\n",
    "\n",
    "display(Markdown(content))"
   ]
  },
  {
   "cell_type": "markdown",
   "metadata": {},
   "source": [
    "# Let's start coding !"
   ]
  },
  {
   "cell_type": "markdown",
   "metadata": {},
   "source": [
    "### Importing Dependencies"
   ]
  },
  {
   "cell_type": "code",
   "execution_count": 5,
   "metadata": {},
   "outputs": [],
   "source": [
    "import tweepy as tp\n",
    "import pandas as pd\n",
    "from textblob import TextBlob\n",
    "import json\n",
    "import time"
   ]
  },
  {
   "cell_type": "markdown",
   "metadata": {},
   "source": [
    "### Setting up twitter API"
   ]
  },
  {
   "cell_type": "code",
   "execution_count": 6,
   "metadata": {},
   "outputs": [],
   "source": [
    "twitter = {}\n",
    "with open('Twitter.json') as json_file:  \n",
    "    twitter = json.load(json_file)\n",
    "\n",
    "consumer_key = twitter['consumer_key']\n",
    "consumer_secret = twitter['consumer_secret']\n",
    "access_token = twitter['access_token']\n",
    "access_token_secret = twitter['access_token_secret']\n",
    "\n",
    "auth = tp.OAuthHandler(consumer_key, consumer_secret)\n",
    "auth.set_access_token = (access_token, access_token_secret)"
   ]
  },
  {
   "cell_type": "markdown",
   "metadata": {},
   "source": [
    "### Authenticating with twitter API"
   ]
  },
  {
   "cell_type": "code",
   "execution_count": 7,
   "metadata": {},
   "outputs": [],
   "source": [
    "api = tp.API(auth)"
   ]
  },
  {
   "cell_type": "markdown",
   "metadata": {},
   "source": [
    "### Defining the querry to be searched\n",
    "Here the Query is 'Bitcoin'and the maximum number of tweets is 1000."
   ]
  },
  {
   "cell_type": "code",
   "execution_count": 8,
   "metadata": {},
   "outputs": [],
   "source": [
    "query = 'Bitcoin'\n",
    "max_tweets = 1000"
   ]
  },
  {
   "cell_type": "code",
   "execution_count": 9,
   "metadata": {},
   "outputs": [],
   "source": [
    "tweets = tp.Cursor(api.search, q=query).items(max_tweets)\n",
    "txt = []\n",
    "for tweet in tweets:\n",
    "    if tweet.lang=='en':\n",
    "        txt.append(tweet.text)"
   ]
  },
  {
   "cell_type": "markdown",
   "metadata": {},
   "source": [
    "The API looks for the defined number of tweets and if the tweet is in english adds it to the list of retrieved tweets"
   ]
  },
  {
   "cell_type": "code",
   "execution_count": 10,
   "metadata": {
    "scrolled": true
   },
   "outputs": [
    {
     "name": "stdout",
     "output_type": "stream",
     "text": [
      "793\n"
     ]
    }
   ],
   "source": [
    "print(len(txt))"
   ]
  },
  {
   "cell_type": "markdown",
   "metadata": {},
   "source": [
    "### The tweets are then added to a Pandas dataframe to be analised later."
   ]
  },
  {
   "cell_type": "code",
   "execution_count": 11,
   "metadata": {},
   "outputs": [
    {
     "data": {
      "text/html": [
       "<div>\n",
       "<style scoped>\n",
       "    .dataframe tbody tr th:only-of-type {\n",
       "        vertical-align: middle;\n",
       "    }\n",
       "\n",
       "    .dataframe tbody tr th {\n",
       "        vertical-align: top;\n",
       "    }\n",
       "\n",
       "    .dataframe thead th {\n",
       "        text-align: right;\n",
       "    }\n",
       "</style>\n",
       "<table border=\"1\" class=\"dataframe\">\n",
       "  <thead>\n",
       "    <tr style=\"text-align: right;\">\n",
       "      <th></th>\n",
       "      <th>Tweets</th>\n",
       "    </tr>\n",
       "  </thead>\n",
       "  <tbody>\n",
       "    <tr>\n",
       "      <th>0</th>\n",
       "      <td>RT @CryptoCoinsNews: Dow Surges 200 Points aft...</td>\n",
       "    </tr>\n",
       "    <tr>\n",
       "      <th>1</th>\n",
       "      <td>RT @Ejobofficial: More updates soon!\\n\\n$EJOB ...</td>\n",
       "    </tr>\n",
       "    <tr>\n",
       "      <th>2</th>\n",
       "      <td>Bitcoin Daily Chart Alert – Bulls Still Have S...</td>\n",
       "    </tr>\n",
       "    <tr>\n",
       "      <th>3</th>\n",
       "      <td>RT @wikileaks: Craig S. Wright is a proven ser...</td>\n",
       "    </tr>\n",
       "    <tr>\n",
       "      <th>4</th>\n",
       "      <td>@selflovelisa Investment wise I’d say Bitcoin....</td>\n",
       "    </tr>\n",
       "    <tr>\n",
       "      <th>5</th>\n",
       "      <td>RT @wikileaks: Craig S. Wright is a proven ser...</td>\n",
       "    </tr>\n",
       "    <tr>\n",
       "      <th>6</th>\n",
       "      <td>#NetNeutrality is an issue we in the #cryptocu...</td>\n",
       "    </tr>\n",
       "    <tr>\n",
       "      <th>7</th>\n",
       "      <td>@BitcoinBuIl There is no more reason to believ...</td>\n",
       "    </tr>\n",
       "    <tr>\n",
       "      <th>8</th>\n",
       "      <td>It's The Inherent Design Of Bitcoin That Ensur...</td>\n",
       "    </tr>\n",
       "    <tr>\n",
       "      <th>9</th>\n",
       "      <td>RT @LukeDashjr: @PaulcBitcoin @timoncc @geckoz...</td>\n",
       "    </tr>\n",
       "  </tbody>\n",
       "</table>\n",
       "</div>"
      ],
      "text/plain": [
       "                                              Tweets\n",
       "0  RT @CryptoCoinsNews: Dow Surges 200 Points aft...\n",
       "1  RT @Ejobofficial: More updates soon!\\n\\n$EJOB ...\n",
       "2  Bitcoin Daily Chart Alert – Bulls Still Have S...\n",
       "3  RT @wikileaks: Craig S. Wright is a proven ser...\n",
       "4  @selflovelisa Investment wise I’d say Bitcoin....\n",
       "5  RT @wikileaks: Craig S. Wright is a proven ser...\n",
       "6  #NetNeutrality is an issue we in the #cryptocu...\n",
       "7  @BitcoinBuIl There is no more reason to believ...\n",
       "8  It's The Inherent Design Of Bitcoin That Ensur...\n",
       "9  RT @LukeDashjr: @PaulcBitcoin @timoncc @geckoz..."
      ]
     },
     "metadata": {},
     "output_type": "display_data"
    }
   ],
   "source": [
    "data = pd.DataFrame({'Tweets':txt})\n",
    "display(data.head(10))"
   ]
  },
  {
   "cell_type": "markdown",
   "metadata": {},
   "source": [
    "#### Performing Sentiment analysis using TextbBlob"
   ]
  },
  {
   "cell_type": "code",
   "execution_count": 12,
   "metadata": {
    "scrolled": false
   },
   "outputs": [
    {
     "data": {
      "text/html": [
       "<div>\n",
       "<style scoped>\n",
       "    .dataframe tbody tr th:only-of-type {\n",
       "        vertical-align: middle;\n",
       "    }\n",
       "\n",
       "    .dataframe tbody tr th {\n",
       "        vertical-align: top;\n",
       "    }\n",
       "\n",
       "    .dataframe thead th {\n",
       "        text-align: right;\n",
       "    }\n",
       "</style>\n",
       "<table border=\"1\" class=\"dataframe\">\n",
       "  <thead>\n",
       "    <tr style=\"text-align: right;\">\n",
       "      <th></th>\n",
       "      <th>Tweets</th>\n",
       "      <th>polarity</th>\n",
       "    </tr>\n",
       "  </thead>\n",
       "  <tbody>\n",
       "    <tr>\n",
       "      <th>0</th>\n",
       "      <td>RT @CryptoCoinsNews: Dow Surges 200 Points aft...</td>\n",
       "      <td>(0.0, 0.0)</td>\n",
       "    </tr>\n",
       "    <tr>\n",
       "      <th>1</th>\n",
       "      <td>RT @Ejobofficial: More updates soon!\\n\\n$EJOB ...</td>\n",
       "      <td>(0.625, 0.5)</td>\n",
       "    </tr>\n",
       "    <tr>\n",
       "      <th>2</th>\n",
       "      <td>Bitcoin Daily Chart Alert – Bulls Still Have S...</td>\n",
       "      <td>(0.0, 0.0)</td>\n",
       "    </tr>\n",
       "    <tr>\n",
       "      <th>3</th>\n",
       "      <td>RT @wikileaks: Craig S. Wright is a proven ser...</td>\n",
       "      <td>(0.0, 0.0)</td>\n",
       "    </tr>\n",
       "    <tr>\n",
       "      <th>4</th>\n",
       "      <td>@selflovelisa Investment wise I’d say Bitcoin....</td>\n",
       "      <td>(0.7, 0.9)</td>\n",
       "    </tr>\n",
       "    <tr>\n",
       "      <th>5</th>\n",
       "      <td>RT @wikileaks: Craig S. Wright is a proven ser...</td>\n",
       "      <td>(0.0, 0.0)</td>\n",
       "    </tr>\n",
       "    <tr>\n",
       "      <th>6</th>\n",
       "      <td>#NetNeutrality is an issue we in the #cryptocu...</td>\n",
       "      <td>(-0.3333333333333333, 0.6666666666666666)</td>\n",
       "    </tr>\n",
       "    <tr>\n",
       "      <th>7</th>\n",
       "      <td>@BitcoinBuIl There is no more reason to believ...</td>\n",
       "      <td>(-0.25, 0.5)</td>\n",
       "    </tr>\n",
       "    <tr>\n",
       "      <th>8</th>\n",
       "      <td>It's The Inherent Design Of Bitcoin That Ensur...</td>\n",
       "      <td>(-0.3166666666666667, 0.3)</td>\n",
       "    </tr>\n",
       "    <tr>\n",
       "      <th>9</th>\n",
       "      <td>RT @LukeDashjr: @PaulcBitcoin @timoncc @geckoz...</td>\n",
       "      <td>(0.175, 0.775)</td>\n",
       "    </tr>\n",
       "    <tr>\n",
       "      <th>10</th>\n",
       "      <td>RT @OrbisToken: 🎁Register, Share your personal...</td>\n",
       "      <td>(0.0, 0.3)</td>\n",
       "    </tr>\n",
       "    <tr>\n",
       "      <th>11</th>\n",
       "      <td>We’re Freeriders: Facebook Co-Founder Chris Hu...</td>\n",
       "      <td>(0.25, 0.2333333333333333)</td>\n",
       "    </tr>\n",
       "    <tr>\n",
       "      <th>12</th>\n",
       "      <td>RT @saifedean: @GeorgeSelgin @DiegoZuluagaL @W...</td>\n",
       "      <td>(0.16666666666666666, 0.3333333333333333)</td>\n",
       "    </tr>\n",
       "    <tr>\n",
       "      <th>13</th>\n",
       "      <td>@ricpuglisi bitcoin? are they acceptable?</td>\n",
       "      <td>(0.0, 0.0)</td>\n",
       "    </tr>\n",
       "    <tr>\n",
       "      <th>14</th>\n",
       "      <td>New post (Crypto Declines; Another Bitcoin ETF...</td>\n",
       "      <td>(0.018181818181818174, 0.5272727272727272)</td>\n",
       "    </tr>\n",
       "  </tbody>\n",
       "</table>\n",
       "</div>"
      ],
      "text/plain": [
       "                                               Tweets  \\\n",
       "0   RT @CryptoCoinsNews: Dow Surges 200 Points aft...   \n",
       "1   RT @Ejobofficial: More updates soon!\\n\\n$EJOB ...   \n",
       "2   Bitcoin Daily Chart Alert – Bulls Still Have S...   \n",
       "3   RT @wikileaks: Craig S. Wright is a proven ser...   \n",
       "4   @selflovelisa Investment wise I’d say Bitcoin....   \n",
       "5   RT @wikileaks: Craig S. Wright is a proven ser...   \n",
       "6   #NetNeutrality is an issue we in the #cryptocu...   \n",
       "7   @BitcoinBuIl There is no more reason to believ...   \n",
       "8   It's The Inherent Design Of Bitcoin That Ensur...   \n",
       "9   RT @LukeDashjr: @PaulcBitcoin @timoncc @geckoz...   \n",
       "10  RT @OrbisToken: 🎁Register, Share your personal...   \n",
       "11  We’re Freeriders: Facebook Co-Founder Chris Hu...   \n",
       "12  RT @saifedean: @GeorgeSelgin @DiegoZuluagaL @W...   \n",
       "13          @ricpuglisi bitcoin? are they acceptable?   \n",
       "14  New post (Crypto Declines; Another Bitcoin ETF...   \n",
       "\n",
       "                                      polarity  \n",
       "0                                   (0.0, 0.0)  \n",
       "1                                 (0.625, 0.5)  \n",
       "2                                   (0.0, 0.0)  \n",
       "3                                   (0.0, 0.0)  \n",
       "4                                   (0.7, 0.9)  \n",
       "5                                   (0.0, 0.0)  \n",
       "6    (-0.3333333333333333, 0.6666666666666666)  \n",
       "7                                 (-0.25, 0.5)  \n",
       "8                   (-0.3166666666666667, 0.3)  \n",
       "9                               (0.175, 0.775)  \n",
       "10                                  (0.0, 0.3)  \n",
       "11                  (0.25, 0.2333333333333333)  \n",
       "12   (0.16666666666666666, 0.3333333333333333)  \n",
       "13                                  (0.0, 0.0)  \n",
       "14  (0.018181818181818174, 0.5272727272727272)  "
      ]
     },
     "metadata": {},
     "output_type": "display_data"
    }
   ],
   "source": [
    "polar = []\n",
    "\n",
    "for index, row in data.iterrows():\n",
    "  analysis = TextBlob(row[\"Tweets\"])\n",
    "  polar.append(analysis.sentiment)\n",
    "  \n",
    "se = pd.Series(polar)\n",
    "data['polarity'] = se.values\n",
    "\n",
    "display(data.head(15))"
   ]
  },
  {
   "cell_type": "markdown",
   "metadata": {},
   "source": [
    "### Creating timestamp for downloaded datset of tweets"
   ]
  },
  {
   "cell_type": "code",
   "execution_count": 13,
   "metadata": {},
   "outputs": [
    {
     "name": "stdout",
     "output_type": "stream",
     "text": [
      "20190212-192705\n"
     ]
    }
   ],
   "source": [
    "# Format time\n",
    "timestr = time.strftime(\"%Y%m%d-%H%M%S\")\n",
    "print(timestr)"
   ]
  },
  {
   "cell_type": "markdown",
   "metadata": {},
   "source": [
    "### Saving the analysed tweets to a CSV file"
   ]
  },
  {
   "cell_type": "code",
   "execution_count": 14,
   "metadata": {},
   "outputs": [],
   "source": [
    "data.to_csv(path_or_buf='{}_{}_{}.csv'.format(query,max_tweets,timestr),index=False)"
   ]
  },
  {
   "cell_type": "markdown",
   "metadata": {},
   "source": [
    "### Finding the Average Polarity and Subjectivity of the tweets (larger number is better)"
   ]
  },
  {
   "cell_type": "code",
   "execution_count": 15,
   "metadata": {},
   "outputs": [
    {
     "name": "stdout",
     "output_type": "stream",
     "text": [
      "Avg polarity = 0.1725782523595024\n",
      "Avg subjectivity = 0.5031802126802132\n"
     ]
    }
   ],
   "source": [
    "sump = 0\n",
    "sums = 0\n",
    "i = 0\n",
    "for sentiment in polar:\n",
    "    polarity = sentiment.polarity\n",
    "    subjectivity = sentiment.subjectivity\n",
    "    if(polarity and subjectivity):\n",
    "        sump += polarity\n",
    "        sums += subjectivity\n",
    "        i+=1\n",
    "sump/=i\n",
    "sums/=i\n",
    "    \n",
    "\n",
    "print('Avg polarity = {}'.format(sump))\n",
    "print('Avg subjectivity = {}'.format(sums))"
   ]
  },
  {
   "cell_type": "markdown",
   "metadata": {},
   "source": [
    "## Conclusion\n",
    "We can conclude that the public opinion about Bitcoin is generally positive.."
   ]
  },
  {
   "cell_type": "code",
   "execution_count": 3,
   "metadata": {
    "scrolled": false
   },
   "outputs": [
    {
     "data": {
      "text/markdown": [
       "## Useful links:-\n",
       "\n",
       "### What is Bitcoin:\n",
       "1. https://www.youtube.com/watch?v=nVFDZsxOMRg\n",
       "1. https://www.youtube.com/watch?v=bBC-nXj3Ng4\n",
       "\n",
       "### ABER cryptocurrency:\n",
       "1. https://gulfbusiness.com/uae-saudi-reveal-details-common-digital-currency-aber/\n",
       "1. https://medium.com/@tokensdaily/uae-saudi-arabian-digital-currency-aber-to-be-restricted-to-select-banks-at-start-f7572f139a02\n",
       "1. https://youtu.be/12YVaB1q9m8\n",
       "\n",
       "### Social Media Monitoring:\n",
       "1. https://www.brandwatch.com/blog/what-is-social-media-monitoring-answers-to-common-questions-and-misconceptions/\n",
       "1. https://medium.com/@the_manifest/social-listening-tools-and-strategies-to-improve-your-brand-1d110469d770\n",
       "1. https://www.netbase.com/blog/what-is-social-media-monitoring-sma-guide-part-2/\n",
       "\n",
       "### Tweepy API:\n",
       "1. http://docs.tweepy.org/en/3.7.0/\n",
       "1. http://docs.tweepy.org/en/3.7.0/api.html#tweepy-api-twitter-api-wrapper\n",
       "\n",
       "### Sentiment Analysis:\n",
       "1. https://monkeylearn.com/sentiment-analysis/\n",
       "1. https://www.brandwatch.com/blog/understanding-sentiment-analysis/\n",
       "1. https://en.wikipedia.org/wiki/Sentiment_analysis\n"
      ],
      "text/plain": [
       "<IPython.core.display.Markdown object>"
      ]
     },
     "metadata": {},
     "output_type": "display_data"
    }
   ],
   "source": [
    "with open('Description.txt', 'r') as fh:\n",
    "    content = fh.read()\n",
    "\n",
    "display(Markdown(content))"
   ]
  },
  {
   "cell_type": "code",
   "execution_count": null,
   "metadata": {},
   "outputs": [],
   "source": []
  }
 ],
 "metadata": {
  "kernelspec": {
   "display_name": "Python 3",
   "language": "python",
   "name": "python3"
  },
  "language_info": {
   "codemirror_mode": {
    "name": "ipython",
    "version": 3
   },
   "file_extension": ".py",
   "mimetype": "text/x-python",
   "name": "python",
   "nbconvert_exporter": "python",
   "pygments_lexer": "ipython3",
   "version": "3.6.5"
  }
 },
 "nbformat": 4,
 "nbformat_minor": 2
}
